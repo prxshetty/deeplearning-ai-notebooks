{
 "cells": [
  {
   "cell_type": "code",
   "execution_count": 28,
   "id": "078476c3-6d64-4775-ba27-9c26a5cbab23",
   "metadata": {},
   "outputs": [
    {
     "name": "stdout",
     "output_type": "stream",
     "text": [
      "Requirement already satisfied: anthropic in /Users/pranamshetty/.pyenv/versions/3.10.15/lib/python3.10/site-packages (0.45.2)\n",
      "Requirement already satisfied: httpx<1,>=0.23.0 in /Users/pranamshetty/.pyenv/versions/3.10.15/lib/python3.10/site-packages (from anthropic) (0.28.1)\n",
      "Requirement already satisfied: anyio<5,>=3.5.0 in /Users/pranamshetty/.pyenv/versions/3.10.15/lib/python3.10/site-packages (from anthropic) (4.8.0)\n",
      "Requirement already satisfied: jiter<1,>=0.4.0 in /Users/pranamshetty/.pyenv/versions/3.10.15/lib/python3.10/site-packages (from anthropic) (0.8.2)\n",
      "Requirement already satisfied: typing-extensions<5,>=4.10 in /Users/pranamshetty/.pyenv/versions/3.10.15/lib/python3.10/site-packages (from anthropic) (4.12.2)\n",
      "Requirement already satisfied: pydantic<3,>=1.9.0 in /Users/pranamshetty/.pyenv/versions/3.10.15/lib/python3.10/site-packages (from anthropic) (2.10.5)\n",
      "Requirement already satisfied: sniffio in /Users/pranamshetty/.pyenv/versions/3.10.15/lib/python3.10/site-packages (from anthropic) (1.3.1)\n",
      "Requirement already satisfied: distro<2,>=1.7.0 in /Users/pranamshetty/.pyenv/versions/3.10.15/lib/python3.10/site-packages (from anthropic) (1.9.0)\n",
      "Requirement already satisfied: idna>=2.8 in /Users/pranamshetty/.pyenv/versions/3.10.15/lib/python3.10/site-packages (from anyio<5,>=3.5.0->anthropic) (3.10)\n",
      "Requirement already satisfied: exceptiongroup>=1.0.2 in /Users/pranamshetty/.pyenv/versions/3.10.15/lib/python3.10/site-packages (from anyio<5,>=3.5.0->anthropic) (1.2.2)\n",
      "Requirement already satisfied: certifi in /Users/pranamshetty/.pyenv/versions/3.10.15/lib/python3.10/site-packages (from httpx<1,>=0.23.0->anthropic) (2024.12.14)\n",
      "Requirement already satisfied: httpcore==1.* in /Users/pranamshetty/.pyenv/versions/3.10.15/lib/python3.10/site-packages (from httpx<1,>=0.23.0->anthropic) (1.0.7)\n",
      "Requirement already satisfied: h11<0.15,>=0.13 in /Users/pranamshetty/.pyenv/versions/3.10.15/lib/python3.10/site-packages (from httpcore==1.*->httpx<1,>=0.23.0->anthropic) (0.14.0)\n",
      "Requirement already satisfied: annotated-types>=0.6.0 in /Users/pranamshetty/.pyenv/versions/3.10.15/lib/python3.10/site-packages (from pydantic<3,>=1.9.0->anthropic) (0.7.0)\n",
      "Requirement already satisfied: pydantic-core==2.27.2 in /Users/pranamshetty/.pyenv/versions/3.10.15/lib/python3.10/site-packages (from pydantic<3,>=1.9.0->anthropic) (2.27.2)\n",
      "\n",
      "\u001b[1m[\u001b[0m\u001b[34;49mnotice\u001b[0m\u001b[1;39;49m]\u001b[0m\u001b[39;49m A new release of pip is available: \u001b[0m\u001b[31;49m23.0.1\u001b[0m\u001b[39;49m -> \u001b[0m\u001b[32;49m25.0\u001b[0m\n",
      "\u001b[1m[\u001b[0m\u001b[34;49mnotice\u001b[0m\u001b[1;39;49m]\u001b[0m\u001b[39;49m To update, run: \u001b[0m\u001b[32;49mpip install --upgrade pip\u001b[0m\n",
      "Requirement already satisfied: python-dotenv in /Users/pranamshetty/.pyenv/versions/3.10.15/lib/python3.10/site-packages (1.0.1)\n",
      "\n",
      "\u001b[1m[\u001b[0m\u001b[34;49mnotice\u001b[0m\u001b[1;39;49m]\u001b[0m\u001b[39;49m A new release of pip is available: \u001b[0m\u001b[31;49m23.0.1\u001b[0m\u001b[39;49m -> \u001b[0m\u001b[32;49m25.0\u001b[0m\n",
      "\u001b[1m[\u001b[0m\u001b[34;49mnotice\u001b[0m\u001b[1;39;49m]\u001b[0m\u001b[39;49m To update, run: \u001b[0m\u001b[32;49mpip install --upgrade pip\u001b[0m\n"
     ]
    },
    {
     "data": {
      "text/plain": [
       "True"
      ]
     },
     "execution_count": 28,
     "metadata": {},
     "output_type": "execute_result"
    }
   ],
   "source": [
    "!pip install anthropic\n",
    "!pip install python-dotenv\n",
    "from anthropic import Anthropic\n",
    "from dotenv import load_dotenv\n",
    "load_dotenv()"
   ]
  },
  {
   "cell_type": "code",
   "execution_count": 31,
   "id": "d79b9379-4b08-4117-a189-05a35a14bc18",
   "metadata": {},
   "outputs": [],
   "source": [
    "import os\n",
    "client = Anthropic()\n",
    "key = os.getenv(\"ANTHROPIC_API_KEY\")"
   ]
  },
  {
   "cell_type": "code",
   "execution_count": 12,
   "id": "8ae63ae6-edc8-45b6-93b3-1faec85bb132",
   "metadata": {},
   "outputs": [],
   "source": [
    "MODEL_NAME = \"claude-3-5-sonnet-20241022\""
   ]
  },
  {
   "cell_type": "code",
   "execution_count": 20,
   "id": "19db69af-c583-4959-b5cc-3fc9e68bbe4e",
   "metadata": {},
   "outputs": [],
   "source": [
    "import base64\n",
    "with open(\"./images/food.jpg\", \"rb\") as image_file:\n",
    "    binary_data = image_file.read()\n",
    "    base_64_encoded_data = base64.b64encode(binary_data)\n",
    "    base64_string = base_64_encoded_data.decode('utf-8')"
   ]
  },
  {
   "cell_type": "code",
   "execution_count": 25,
   "id": "c7e6f188-9902-40b7-9b8f-a6713f482bc0",
   "metadata": {},
   "outputs": [
    {
     "data": {
      "text/plain": [
       "77156"
      ]
     },
     "execution_count": 25,
     "metadata": {},
     "output_type": "execute_result"
    }
   ],
   "source": [
    "len(base64_string)"
   ]
  },
  {
   "cell_type": "code",
   "execution_count": 33,
   "id": "2ecbd2b7-ff34-4dd2-8ba3-390ab96e5b29",
   "metadata": {},
   "outputs": [],
   "source": [
    "messages = [\n",
    "    {\n",
    "        \"role\" : \"user\",\n",
    "        \"content\" : [{\n",
    "            \"type\" : \"image\",\n",
    "            \"source\" : {\n",
    "                \"type\" : \"base64\",\n",
    "                \"media_type\" : \"image/jpeg\",\n",
    "                \"data\" : base64_string\n",
    "            },\n",
    "        },\n",
    "                     {\"type\" : \"text\",\n",
    "                      \"text\" : \"\"\"How many boxes of each type are there in this image?\"\"\"\n",
    "                     }]\n",
    "    }\n",
    "]\n",
    "                         "
   ]
  },
  {
   "cell_type": "code",
   "execution_count": 34,
   "id": "a59f8895-0aa0-4b4a-9530-5cf4ed9837e1",
   "metadata": {},
   "outputs": [
    {
     "name": "stdout",
     "output_type": "stream",
     "text": [
      "In this image, there appears to be:\n",
      "- 1 brown paper bag/shopping bag\n",
      "- Several stacked boxes/containers including:\n",
      "  * What appears to be pizza boxes or food delivery containers\n",
      "  * Some drink carriers with coffee cups on top\n",
      "  * At least 3-4 stacked containers/boxes in total\n",
      "\n",
      "The delivery worker is wearing red and carrying these items for delivery.\n"
     ]
    }
   ],
   "source": [
    "response = client.messages.create(\n",
    "    messages = messages,\n",
    "    model = MODEL_NAME,\n",
    "    max_tokens = 200\n",
    ")\n",
    "print(response.content[0].text)"
   ]
  },
  {
   "cell_type": "code",
   "execution_count": 38,
   "id": "7af1ba14-ac5d-47db-8163-058734026aff",
   "metadata": {},
   "outputs": [
    {
     "name": "stdout",
     "output_type": "stream",
     "text": [
      "Here's a balla!d I've composed:\n",
      "\n",
      " of Rose and Grey\n",
      "\n",
      " deep where shadows dwell,\n",
      " lived a maiden named Rose,!\n",
      "Whose heart was pure as mountain springs!\n",
      "Where wild heather grows.\n",
      "\n",
      " morning as the sun arose,\n",
      " the misty trail,\n",
      " she'd meet a wandering soul,!\n",
      "A man they called Grey Dale.\n",
      "\n",
      " like the stormy sea,\n",
      " could warm the cold,\n",
      " held secrets in his heart\n",
      " could be told.\n",
      "\n",
      " he was bound by ancient vows!\n",
      "To guard the forest's gate,\n",
      " Rose was promised to another!\n",
      "By turns of cruel fate.\n",
      "\n",
      " summer's gold and autumn's fire\n",
      " love grew ever strong,\n",
      " with icy windse!\n",
      ".nd proved their time was gone!\n",
      "\n",
      "One night beneath the hunter's moon,\n",
      " vanished in the shade,\n",
      "ught but memories\n",
      "lade.ootprints in the g!\n",
      "\n",
      "ty pathose walks that mis!\n",
      "Where once their love did bloom,!\n",
      "Some say they hear two voices there!\n",
      "oom. twilight fills the gl!\n",
      "\n",
      " say, transcends all bounds\n",
      "tal time and space,\n",
      "d somewhere still, Rose and Grey\n",
      " keep their grace.\n",
      "\n",
      " a traditional format with quatrain stanzas and a! simple ABCB rhyme scheme.! It tells a romantic story with supernatural elements, which! is common in traditional ballads.!"
     ]
    }
   ],
   "source": [
    "with client.messages.stream(\n",
    "    max_tokens = 1024,\n",
    "    messages = [{\"role\": \"user\", \"content\" : \"write a ballard\"}],\n",
    "    model = MODEL_NAME,\n",
    ") as stream:\n",
    "    for text in stream.text_stream:\n",
    "        print(text, end=\"!\", flush = True)"
   ]
  },
  {
   "cell_type": "code",
   "execution_count": null,
   "id": "4d6b302e-0fcb-469f-ac7d-438eeea289ac",
   "metadata": {},
   "outputs": [],
   "source": []
  }
 ],
 "metadata": {
  "kernelspec": {
   "display_name": "Python 3 (ipykernel)",
   "language": "python",
   "name": "python3"
  },
  "language_info": {
   "codemirror_mode": {
    "name": "ipython",
    "version": 3
   },
   "file_extension": ".py",
   "mimetype": "text/x-python",
   "name": "python",
   "nbconvert_exporter": "python",
   "pygments_lexer": "ipython3",
   "version": "3.10.15"
  }
 },
 "nbformat": 4,
 "nbformat_minor": 5
}
