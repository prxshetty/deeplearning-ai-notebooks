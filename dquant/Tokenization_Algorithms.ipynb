{
  "nbformat": 4,
  "nbformat_minor": 0,
  "metadata": {
    "colab": {
      "provenance": []
    },
    "kernelspec": {
      "name": "python3",
      "display_name": "Python 3"
    },
    "language_info": {
      "name": "python"
    }
  },
  "cells": [
    {
      "cell_type": "code",
      "execution_count": 18,
      "metadata": {
        "colab": {
          "base_uri": "https://localhost:8080/"
        },
        "id": "0sa_fxjpqGVm",
        "outputId": "7d57d695-057b-40d5-b362-b344fc16d652"
      },
      "outputs": [
        {
          "output_type": "stream",
          "name": "stdout",
          "text": [
            "Requirement already satisfied: real_wordpiece in /usr/local/lib/python3.10/dist-packages (0.1.7)\n",
            "Requirement already satisfied: tokenizers<0.20.0,>=0.19.1 in /usr/local/lib/python3.10/dist-packages (from real_wordpiece) (0.19.1)\n",
            "Requirement already satisfied: huggingface-hub<1.0,>=0.16.4 in /usr/local/lib/python3.10/dist-packages (from tokenizers<0.20.0,>=0.19.1->real_wordpiece) (0.24.7)\n",
            "Requirement already satisfied: filelock in /usr/local/lib/python3.10/dist-packages (from huggingface-hub<1.0,>=0.16.4->tokenizers<0.20.0,>=0.19.1->real_wordpiece) (3.16.1)\n",
            "Requirement already satisfied: fsspec>=2023.5.0 in /usr/local/lib/python3.10/dist-packages (from huggingface-hub<1.0,>=0.16.4->tokenizers<0.20.0,>=0.19.1->real_wordpiece) (2024.6.1)\n",
            "Requirement already satisfied: packaging>=20.9 in /usr/local/lib/python3.10/dist-packages (from huggingface-hub<1.0,>=0.16.4->tokenizers<0.20.0,>=0.19.1->real_wordpiece) (24.1)\n",
            "Requirement already satisfied: pyyaml>=5.1 in /usr/local/lib/python3.10/dist-packages (from huggingface-hub<1.0,>=0.16.4->tokenizers<0.20.0,>=0.19.1->real_wordpiece) (6.0.2)\n",
            "Requirement already satisfied: requests in /usr/local/lib/python3.10/dist-packages (from huggingface-hub<1.0,>=0.16.4->tokenizers<0.20.0,>=0.19.1->real_wordpiece) (2.32.3)\n",
            "Requirement already satisfied: tqdm>=4.42.1 in /usr/local/lib/python3.10/dist-packages (from huggingface-hub<1.0,>=0.16.4->tokenizers<0.20.0,>=0.19.1->real_wordpiece) (4.66.5)\n",
            "Requirement already satisfied: typing-extensions>=3.7.4.3 in /usr/local/lib/python3.10/dist-packages (from huggingface-hub<1.0,>=0.16.4->tokenizers<0.20.0,>=0.19.1->real_wordpiece) (4.12.2)\n",
            "Requirement already satisfied: charset-normalizer<4,>=2 in /usr/local/lib/python3.10/dist-packages (from requests->huggingface-hub<1.0,>=0.16.4->tokenizers<0.20.0,>=0.19.1->real_wordpiece) (3.3.2)\n",
            "Requirement already satisfied: idna<4,>=2.5 in /usr/local/lib/python3.10/dist-packages (from requests->huggingface-hub<1.0,>=0.16.4->tokenizers<0.20.0,>=0.19.1->real_wordpiece) (3.10)\n",
            "Requirement already satisfied: urllib3<3,>=1.21.1 in /usr/local/lib/python3.10/dist-packages (from requests->huggingface-hub<1.0,>=0.16.4->tokenizers<0.20.0,>=0.19.1->real_wordpiece) (2.2.3)\n",
            "Requirement already satisfied: certifi>=2017.4.17 in /usr/local/lib/python3.10/dist-packages (from requests->huggingface-hub<1.0,>=0.16.4->tokenizers<0.20.0,>=0.19.1->real_wordpiece) (2024.8.30)\n"
          ]
        }
      ],
      "source": [
        "import warnings\n",
        "!pip3 install real_wordpiece\n",
        "warnings.filterwarnings('ignore')\n",
        "from tokenizers.trainers import BpeTrainer\n",
        "from tokenizers.models import BPE\n",
        "from tokenizers import Tokenizer\n",
        "from tokenizers.pre_tokenizers import Whitespace"
      ]
    },
    {
      "cell_type": "code",
      "source": [
        "training_data = [ \" walker walked a long walk\",\n",
        "                 ]"
      ],
      "metadata": {
        "id": "Q2Nb3MhMs95g"
      },
      "execution_count": 19,
      "outputs": []
    },
    {
      "cell_type": "code",
      "source": [
        "from string import whitespace\n",
        "bpe_tokenizer = Tokenizer(BPE())\n",
        "bpe_tokenizer.pre_tokenizer=Whitespace()\n",
        "bpe_trainer = BpeTrainer(vocab_size = 14)\n"
      ],
      "metadata": {
        "id": "vg61mfMytVN2"
      },
      "execution_count": 20,
      "outputs": []
    },
    {
      "cell_type": "code",
      "source": [
        "bpe_tokenizer.train_from_iterator(training_data, bpe_trainer)"
      ],
      "metadata": {
        "id": "Z8D1EBxWtcwY"
      },
      "execution_count": 21,
      "outputs": []
    },
    {
      "cell_type": "code",
      "source": [
        "bpe_tokenizer.get_vocab()"
      ],
      "metadata": {
        "colab": {
          "base_uri": "https://localhost:8080/"
        },
        "id": "kPOCAoKkuuCZ",
        "outputId": "83aae946-5fd2-47b1-8e2c-5368920e2314"
      },
      "execution_count": 22,
      "outputs": [
        {
          "output_type": "execute_result",
          "data": {
            "text/plain": [
              "{'o': 7,\n",
              " 'g': 3,\n",
              " 'w': 9,\n",
              " 'd': 1,\n",
              " 'k': 4,\n",
              " 'r': 8,\n",
              " 'n': 6,\n",
              " 'l': 5,\n",
              " 'walk': 12,\n",
              " 'walke': 13,\n",
              " 'wal': 11,\n",
              " 'al': 10,\n",
              " 'e': 2,\n",
              " 'a': 0}"
            ]
          },
          "metadata": {},
          "execution_count": 22
        }
      ]
    },
    {
      "cell_type": "code",
      "source": [
        "bpe_tokenizer.encode(\"walker walked a long walk \").tokens"
      ],
      "metadata": {
        "colab": {
          "base_uri": "https://localhost:8080/"
        },
        "id": "hw5eCOQHu1B4",
        "outputId": "8f2955dd-b7f7-40c3-d02b-e770628d0a61"
      },
      "execution_count": 23,
      "outputs": [
        {
          "output_type": "execute_result",
          "data": {
            "text/plain": [
              "['walke', 'r', 'walke', 'd', 'a', 'l', 'o', 'n', 'g', 'walk']"
            ]
          },
          "metadata": {},
          "execution_count": 23
        }
      ]
    },
    {
      "cell_type": "code",
      "source": [
        "bpe_tokenizer.encode(\"wlk\").ids"
      ],
      "metadata": {
        "colab": {
          "base_uri": "https://localhost:8080/"
        },
        "id": "0fdNLe-wu69v",
        "outputId": "eaf95920-5d59-4036-a8e0-32332ccc5592"
      },
      "execution_count": 24,
      "outputs": [
        {
          "output_type": "execute_result",
          "data": {
            "text/plain": [
              "[9, 5, 4]"
            ]
          },
          "metadata": {},
          "execution_count": 24
        }
      ]
    },
    {
      "cell_type": "code",
      "source": [
        "bpe_tokenizer.encode(\"wlk\").tokens"
      ],
      "metadata": {
        "colab": {
          "base_uri": "https://localhost:8080/"
        },
        "id": "AAG4t_tmu_mj",
        "outputId": "5f7d7e88-ac9b-42cd-ac97-229136d2e491"
      },
      "execution_count": 25,
      "outputs": [
        {
          "output_type": "execute_result",
          "data": {
            "text/plain": [
              "['w', 'l', 'k']"
            ]
          },
          "metadata": {},
          "execution_count": 25
        }
      ]
    },
    {
      "cell_type": "code",
      "source": [
        "bpe_tokenizer.encode(\"she walked\").tokens"
      ],
      "metadata": {
        "colab": {
          "base_uri": "https://localhost:8080/"
        },
        "id": "vco8_tHYvCzJ",
        "outputId": "0e2fff30-ef6c-4461-8c12-6861f1c42e9e"
      },
      "execution_count": 26,
      "outputs": [
        {
          "output_type": "execute_result",
          "data": {
            "text/plain": [
              "['e', 'walke', 'd']"
            ]
          },
          "metadata": {},
          "execution_count": 26
        }
      ]
    },
    {
      "cell_type": "code",
      "source": [
        "#word piece"
      ],
      "metadata": {
        "id": "sYAIxZDJvF79"
      },
      "execution_count": 27,
      "outputs": []
    },
    {
      "cell_type": "code",
      "source": [
        "from real_wordpiece.trainer import RealWordPieceTrainer\n",
        "from tokenizers.models import WordPiece\n",
        "real_wordpiece_tokenizer = Tokenizer(WordPiece())\n",
        "real_wordpiece_tokenizer.pre_tokenizer = Whitespace()\n",
        "\n",
        "real_wordpiece_trainer = RealWordPieceTrainer(\n",
        "    vocab_size = 27,\n",
        ")"
      ],
      "metadata": {
        "id": "QR8HjS7DvJPS"
      },
      "execution_count": 32,
      "outputs": []
    },
    {
      "cell_type": "code",
      "source": [
        "real_wordpiece_trainer.train_tokenizer(\n",
        "    training_data, real_wordpiece_tokenizer\n",
        ")\n",
        "real_wordpiece_tokenizer.get_vocab()"
      ],
      "metadata": {
        "colab": {
          "base_uri": "https://localhost:8080/"
        },
        "id": "hSE_pAIiw0CG",
        "outputId": "f56d006c-e3e4-4fcc-c25b-e1397cf3a963"
      },
      "execution_count": 33,
      "outputs": [
        {
          "output_type": "execute_result",
          "data": {
            "text/plain": [
              "{'lo': 19,\n",
              " '##d': 8,\n",
              " 'o': 16,\n",
              " 'g': 18,\n",
              " 'l': 6,\n",
              " 'wa': 24,\n",
              " 'w': 0,\n",
              " '##n': 10,\n",
              " 'a': 5,\n",
              " 'r': 14,\n",
              " '##k': 3,\n",
              " '##ng': 20,\n",
              " 'e': 13,\n",
              " '##r': 7,\n",
              " '##a': 1,\n",
              " 'd': 15,\n",
              " 'n': 17,\n",
              " '##l': 2,\n",
              " '##e': 4,\n",
              " '##g': 11,\n",
              " '##ed': 23,\n",
              " '##lk': 25,\n",
              " 'k': 12,\n",
              " 'walk': 26,\n",
              " '##er': 22,\n",
              " '##o': 9,\n",
              " 'long': 21}"
            ]
          },
          "metadata": {},
          "execution_count": 33
        }
      ]
    },
    {
      "cell_type": "code",
      "source": [
        "real_wordpiece_tokenizer.encode(\"walker walked a long walk\").tokens"
      ],
      "metadata": {
        "colab": {
          "base_uri": "https://localhost:8080/"
        },
        "id": "hx-2xGlPxHKW",
        "outputId": "5f4048bf-d297-4ec7-85d6-98296a69f708"
      },
      "execution_count": 34,
      "outputs": [
        {
          "output_type": "execute_result",
          "data": {
            "text/plain": [
              "['walk', '##er', 'walk', '##ed', 'a', 'long', 'walk']"
            ]
          },
          "metadata": {},
          "execution_count": 34
        }
      ]
    },
    {
      "cell_type": "code",
      "source": [
        "real_wordpiece_tokenizer.encode(\"wlk\").tokens"
      ],
      "metadata": {
        "colab": {
          "base_uri": "https://localhost:8080/"
        },
        "id": "O2EjtmfFxNCu",
        "outputId": "d5c5d728-d2b3-4a42-ae44-0c7acf52ab2f"
      },
      "execution_count": 35,
      "outputs": [
        {
          "output_type": "execute_result",
          "data": {
            "text/plain": [
              "['w', '##lk']"
            ]
          },
          "metadata": {},
          "execution_count": 35
        }
      ]
    },
    {
      "cell_type": "code",
      "source": [
        "real_wordpiece_tokenizer.encode(\"he wlk\").tokens"
      ],
      "metadata": {
        "colab": {
          "base_uri": "https://localhost:8080/",
          "height": 139
        },
        "id": "v872o8Fix5Sx",
        "outputId": "8a946bb3-456a-4d5b-9d00-b990c5e0ca25"
      },
      "execution_count": 36,
      "outputs": [
        {
          "output_type": "error",
          "ename": "Exception",
          "evalue": "WordPiece error: Missing [UNK] token from the vocabulary",
          "traceback": [
            "\u001b[0;31m---------------------------------------------------------------------------\u001b[0m",
            "\u001b[0;31mException\u001b[0m                                 Traceback (most recent call last)",
            "\u001b[0;32m<ipython-input-36-7d920e4cd29b>\u001b[0m in \u001b[0;36m<cell line: 1>\u001b[0;34m()\u001b[0m\n\u001b[0;32m----> 1\u001b[0;31m \u001b[0mreal_wordpiece_tokenizer\u001b[0m\u001b[0;34m.\u001b[0m\u001b[0mencode\u001b[0m\u001b[0;34m(\u001b[0m\u001b[0;34m\"he wlk\"\u001b[0m\u001b[0;34m)\u001b[0m\u001b[0;34m.\u001b[0m\u001b[0mtokens\u001b[0m\u001b[0;34m\u001b[0m\u001b[0;34m\u001b[0m\u001b[0m\n\u001b[0m",
            "\u001b[0;31mException\u001b[0m: WordPiece error: Missing [UNK] token from the vocabulary"
          ]
        }
      ]
    },
    {
      "cell_type": "code",
      "source": [
        "from tokenizers.trainers import WordPieceTrainer\n",
        "\n",
        "unk_token = \"[UNK]\"\n",
        "\n",
        "wordpiece_model = WordPiece(unk_token=unk_token)\n",
        "wordpiece_tokenizer = Tokenizer(wordpiece_model)\n",
        "wordpiece_tokenizer.pre_tokenizer = Whitespace()\n",
        "wordpiece_trainer = WordPieceTrainer(\n",
        "    vocab_size=28,\n",
        "    special_tokens=[unk_token]\n",
        ")"
      ],
      "metadata": {
        "id": "jgyjuKufvXLy"
      },
      "execution_count": 37,
      "outputs": []
    },
    {
      "cell_type": "code",
      "source": [
        "wordpiece_tokenizer.train_from_iterator(\n",
        "    training_data,\n",
        "    wordpiece_trainer\n",
        ")"
      ],
      "metadata": {
        "id": "9PDcuUUBwnF7"
      },
      "execution_count": 38,
      "outputs": []
    },
    {
      "cell_type": "code",
      "source": [
        "wordpiece_tokenizer.get_vocab()"
      ],
      "metadata": {
        "colab": {
          "base_uri": "https://localhost:8080/"
        },
        "id": "R--4b2X4yfoV",
        "outputId": "e5f9b8ba-1918-4a6a-de14-1344a722fc48"
      },
      "execution_count": 39,
      "outputs": [
        {
          "output_type": "execute_result",
          "data": {
            "text/plain": [
              "{'##lk': 21,\n",
              " 'k': 5,\n",
              " 'w': 10,\n",
              " 'walk': 22,\n",
              " '##e': 14,\n",
              " 'walked': 27,\n",
              " 'a': 1,\n",
              " '[UNK]': 0,\n",
              " 'wa': 20,\n",
              " '##ng': 25,\n",
              " 'g': 4,\n",
              " 'l': 6,\n",
              " 'r': 9,\n",
              " '##l': 12,\n",
              " '##d': 19,\n",
              " '##k': 13,\n",
              " '##a': 11,\n",
              " '##r': 15,\n",
              " 'lo': 24,\n",
              " 'e': 3,\n",
              " '##g': 18,\n",
              " 'walke': 23,\n",
              " '##o': 16,\n",
              " '##n': 17,\n",
              " 'o': 8,\n",
              " 'walker': 26,\n",
              " 'n': 7,\n",
              " 'd': 2}"
            ]
          },
          "metadata": {},
          "execution_count": 39
        }
      ]
    },
    {
      "cell_type": "code",
      "source": [
        "wordpiece_tokenizer.encode(\"walker walked a long walk\").tokens"
      ],
      "metadata": {
        "colab": {
          "base_uri": "https://localhost:8080/"
        },
        "id": "83dcOEqcyiHq",
        "outputId": "4ebf6d4b-5e53-4fa3-e312-2f9ba6ffb9b0"
      },
      "execution_count": 40,
      "outputs": [
        {
          "output_type": "execute_result",
          "data": {
            "text/plain": [
              "['walker', 'walked', 'a', 'lo', '##ng', 'walk']"
            ]
          },
          "metadata": {},
          "execution_count": 40
        }
      ]
    },
    {
      "cell_type": "code",
      "source": [
        "wordpiece_tokenizer.encode(\"wlk\").tokens"
      ],
      "metadata": {
        "colab": {
          "base_uri": "https://localhost:8080/"
        },
        "id": "1okL2s7xynbK",
        "outputId": "d0f8329e-2daf-4cb4-a496-be9e8d68732d"
      },
      "execution_count": 42,
      "outputs": [
        {
          "output_type": "execute_result",
          "data": {
            "text/plain": [
              "['w', '##lk']"
            ]
          },
          "metadata": {},
          "execution_count": 42
        }
      ]
    },
    {
      "cell_type": "code",
      "source": [
        "wordpiece_tokenizer.encode(\"they walked\").tokens"
      ],
      "metadata": {
        "colab": {
          "base_uri": "https://localhost:8080/"
        },
        "id": "tFA4TUHoyrRn",
        "outputId": "098f93fc-279f-4653-c123-69ea4d710b5f"
      },
      "execution_count": 43,
      "outputs": [
        {
          "output_type": "execute_result",
          "data": {
            "text/plain": [
              "['[UNK]', 'walked']"
            ]
          },
          "metadata": {},
          "execution_count": 43
        }
      ]
    },
    {
      "cell_type": "code",
      "source": [
        "wordpiece_tokenizer.encode(\"xe/xer walked\").tokens"
      ],
      "metadata": {
        "colab": {
          "base_uri": "https://localhost:8080/"
        },
        "id": "i1bnx6p6ywha",
        "outputId": "d69f963e-c7e1-4638-e07c-a45044670c3a"
      },
      "execution_count": 44,
      "outputs": [
        {
          "output_type": "execute_result",
          "data": {
            "text/plain": [
              "['[UNK]', '[UNK]', '[UNK]', 'walked']"
            ]
          },
          "metadata": {},
          "execution_count": 44
        }
      ]
    },
    {
      "cell_type": "code",
      "source": [
        "#unigram"
      ],
      "metadata": {
        "id": "U7Kb6HKUyzYw"
      },
      "execution_count": 45,
      "outputs": []
    },
    {
      "cell_type": "code",
      "source": [
        "from tokenizers.trainers import UnigramTrainer\n",
        "from tokenizers.models import Unigram\n",
        "unigram_tokenizer = Tokenizer(Unigram())\n",
        "unigram_tokenizer.pre_tokenizer= Whitespace()\n",
        "unigram_trainer = UnigramTrainer(\n",
        "    vocab_size = 14,\n",
        "    special_tokens = [unk_token],\n",
        "    unk_token = unk_token,\n",
        ")\n",
        "unigram_tokenizer.train_from_iterator(training_data, unigram_trainer)\n",
        "unigram_tokenizer.get_vocab()"
      ],
      "metadata": {
        "colab": {
          "base_uri": "https://localhost:8080/"
        },
        "id": "AQrlboutz5Ol",
        "outputId": "7ec7682d-2b02-4376-c4c5-fc6f06f6335b"
      },
      "execution_count": 46,
      "outputs": [
        {
          "output_type": "execute_result",
          "data": {
            "text/plain": [
              "{'a': 6,\n",
              " 'walke': 1,\n",
              " 'walk': 4,\n",
              " 'g': 8,\n",
              " '[UNK]': 0,\n",
              " 'o': 10,\n",
              " 'e': 2,\n",
              " 'r': 12,\n",
              " 'd': 9,\n",
              " 'w': 3,\n",
              " 'l': 5,\n",
              " 'k': 7,\n",
              " 'n': 11}"
            ]
          },
          "metadata": {},
          "execution_count": 46
        }
      ]
    },
    {
      "cell_type": "code",
      "source": [
        "unigram_tokenizer.encode(\"Walker walked for a long walk\").tokens"
      ],
      "metadata": {
        "colab": {
          "base_uri": "https://localhost:8080/"
        },
        "id": "sjLFLJWK0ZEc",
        "outputId": "2daa0ac4-d609-4034-c8d2-da647842ff84"
      },
      "execution_count": 47,
      "outputs": [
        {
          "output_type": "execute_result",
          "data": {
            "text/plain": [
              "['W',\n",
              " 'a',\n",
              " 'l',\n",
              " 'k',\n",
              " 'e',\n",
              " 'r',\n",
              " 'walke',\n",
              " 'd',\n",
              " 'f',\n",
              " 'o',\n",
              " 'r',\n",
              " 'a',\n",
              " 'l',\n",
              " 'o',\n",
              " 'n',\n",
              " 'g',\n",
              " 'walk']"
            ]
          },
          "metadata": {},
          "execution_count": 47
        }
      ]
    },
    {
      "cell_type": "code",
      "source": [
        "unigram_tokenizer.encode(\"walk\").tokens"
      ],
      "metadata": {
        "colab": {
          "base_uri": "https://localhost:8080/"
        },
        "id": "FEFQNfIz0giI",
        "outputId": "6863576b-4a1d-4c52-9f60-4a22daee3507"
      },
      "execution_count": 49,
      "outputs": [
        {
          "output_type": "execute_result",
          "data": {
            "text/plain": [
              "['walk']"
            ]
          },
          "metadata": {},
          "execution_count": 49
        }
      ]
    },
    {
      "cell_type": "code",
      "source": [
        "unigram_tokenizer.encode(\"She walked\").tokens"
      ],
      "metadata": {
        "colab": {
          "base_uri": "https://localhost:8080/"
        },
        "id": "GApcsIY60j4C",
        "outputId": "1d28f684-94d5-4c8d-faf6-c7edb49452ee"
      },
      "execution_count": 50,
      "outputs": [
        {
          "output_type": "execute_result",
          "data": {
            "text/plain": [
              "['Sh', 'e', 'walke', 'd']"
            ]
          },
          "metadata": {},
          "execution_count": 50
        }
      ]
    },
    {
      "cell_type": "code",
      "source": [
        "unigram_tokenizer.encode(\"She walked\").ids"
      ],
      "metadata": {
        "colab": {
          "base_uri": "https://localhost:8080/"
        },
        "id": "m7V8Vp0o0so8",
        "outputId": "8aa4db43-7b35-4e11-9bf5-ee6e80ab1e50"
      },
      "execution_count": 51,
      "outputs": [
        {
          "output_type": "execute_result",
          "data": {
            "text/plain": [
              "[0, 2, 1, 9]"
            ]
          },
          "metadata": {},
          "execution_count": 51
        }
      ]
    },
    {
      "cell_type": "code",
      "source": [],
      "metadata": {
        "id": "e7uQW65o0vh2"
      },
      "execution_count": null,
      "outputs": []
    }
  ]
}