{
 "cells": [
  {
   "cell_type": "code",
   "execution_count": 30,
   "id": "07e82b54-bdfa-4221-a99d-11e77fa581db",
   "metadata": {},
   "outputs": [],
   "source": [
    "from letta import create_client\n",
    "from dotenv import load_dotenv\n",
    "load_dotenv()\n",
    "client = create_client()"
   ]
  },
  {
   "cell_type": "raw",
   "id": "f9817928-c731-46bb-b2ee-d1032e16bb94",
   "metadata": {},
   "source": [
    "from letta.schemas.llm_config import LLMConfig\n",
    "client.set_default_llm_config(LLMConfig.default_config(\"gpt-4o-mini\"))"
   ]
  },
  {
   "cell_type": "code",
   "execution_count": 31,
   "id": "b102215f-7346-4bbd-8f64-359d317edec0",
   "metadata": {},
   "outputs": [],
   "source": [
    "from letta.schemas.block import Block\n",
    "org_description= \"The company is called AgentOS \" \\\n",
    "+ \"and is building AI tools to make it easier to create \" \\\n",
    "+ \"and deploy LLM agents.\"\n",
    "\n",
    "org_block = Block(name = \"company\", value = org_description)"
   ]
  },
  {
   "cell_type": "code",
   "execution_count": 32,
   "id": "2641e7bc-c7f1-4d67-9862-b5268dcbfb95",
   "metadata": {},
   "outputs": [],
   "source": [
    "from letta.schemas.memory import BasicBlockMemory\n",
    "\n",
    "class OrgMemory(BasicBlockMemory):\n",
    "    def __init__(self, persona : str, org_block : Block):\n",
    "        persona_block = Block(name = \"persona\", value = persona)\n",
    "        super().__init__(blocks = [persona_block, org_block])"
   ]
  },
  {
   "cell_type": "code",
   "execution_count": 33,
   "id": "8225361a-c778-4981-b6f2-d2c21b09bbe8",
   "metadata": {},
   "outputs": [],
   "source": [
    "def read_resume(self, name: str):\n",
    "    \"\"\"\n",
    "    Read the resume data for a candidate given the name\n",
    "\n",
    "    Args: \n",
    "        name (str): Candidate name \n",
    "\n",
    "    Returns: \n",
    "        resume_data (str): Candidate's resume data \n",
    "    \"\"\"\n",
    "    import os\n",
    "    filepath = os.path.join(\"data\", \"resumes\", name.lower().replace(\" \", \"_\") + \".txt\")\n",
    "    #print(\"read\", filepath)\n",
    "    return open(filepath).read()"
   ]
  },
  {
   "cell_type": "code",
   "execution_count": 34,
   "id": "d0ac1370-b7ae-42ee-b9a5-3cb55a7566b4",
   "metadata": {},
   "outputs": [],
   "source": [
    "def submit_evaluation(\n",
    "    self, \n",
    "    candidate_name: str, \n",
    "    reach_out: bool, \n",
    "    resume: str, \n",
    "    justification: str\n",
    "): \n",
    "    \"\"\"\n",
    "    Submit a candidate for outreach. \n",
    "\n",
    "    Args: \n",
    "        candidate_name (str): The name of the candidate\n",
    "        reach_out (bool): Whether to reach out to the candidate\n",
    "        resume (str): The text representation of the candidate's resume \n",
    "        justification (str): Justification for reaching out or not\n",
    "    \"\"\"\n",
    "    from letta import create_client \n",
    "    client = create_client()\n",
    "\n",
    "    message = \"Reach out to the following candidate. \" \\\n",
    "    + f\"Name: {candidate_name}\\n\" \\\n",
    "    + f\"Resume Data: {resume}\\n\" \\\n",
    "    + f\"Justification: {justification}\"\n",
    "    print(\"eval agent\", candidate_name)\n",
    "    if reach_out:\n",
    "        response = client.send_message(\n",
    "            agent_name=\"outreach_agent\", \n",
    "            role=\"user\", \n",
    "            message=message\n",
    "        ) \n",
    "    else: \n",
    "        print(f\"Candidate {candidate_name} is rejected: {justification}\")"
   ]
  },
  {
   "cell_type": "code",
   "execution_count": 35,
   "id": "a770b064-c5c3-4e60-97ce-9cb95bd62022",
   "metadata": {},
   "outputs": [],
   "source": [
    "read_resume_tool = client.create_tool(read_resume) \n",
    "submit_evaluation_tool = client.create_tool(submit_evaluation)"
   ]
  },
  {
   "cell_type": "code",
   "execution_count": null,
   "id": "b0fb93a4-abe5-4f32-a0de-898edb824243",
   "metadata": {},
   "outputs": [],
   "source": [
    "skills = \"Front-end (React, Typescript), software engineering \" \\\n",
    "+ \"(ideally Python), and experience with LLMs.\"\n",
    "eval_persona = f\"You are responsible to finding good recruiting \" \\\n",
    "+ \"candidates, for the company description. \" \\\n",
    "+ f\"Ideal canddiates have skills: {skills}. \" \\\n",
    "+ \"Submit your candidate evaluation with the submit_evaluation tool. \"\n",
    "\n",
    "\n",
    "eval_agent = client.create_agent(\n",
    "    name=\"eval_agent\", \n",
    "    memory=OrgMemory(\n",
    "        persona=eval_persona, \n",
    "        org_block=org_block,\n",
    "    ), \n",
    "    tool=[read_resume_tool.name, submit_evaluation_tool.name]\n",
    ")"
   ]
  },
  {
   "cell_type": "code",
   "execution_count": null,
   "id": "3991360b-3ead-48ba-a4ca-00ad24c62a25",
   "metadata": {},
   "outputs": [],
   "source": []
  }
 ],
 "metadata": {
  "kernelspec": {
   "display_name": "Python 3 (ipykernel)",
   "language": "python",
   "name": "python3"
  },
  "language_info": {
   "codemirror_mode": {
    "name": "ipython",
    "version": 3
   },
   "file_extension": ".py",
   "mimetype": "text/x-python",
   "name": "python",
   "nbconvert_exporter": "python",
   "pygments_lexer": "ipython3",
   "version": "3.10.15"
  }
 },
 "nbformat": 4,
 "nbformat_minor": 5
}
